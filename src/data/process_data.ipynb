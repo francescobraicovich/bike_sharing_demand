{
 "cells": [
  {
   "cell_type": "code",
   "execution_count": 492,
   "metadata": {},
   "outputs": [],
   "source": [
    "import pandas as pd\n",
    "import numpy as np\n",
    "import matplotlib.pyplot as plt\n",
    "import seaborn as sns"
   ]
  },
  {
   "cell_type": "code",
   "execution_count": 493,
   "metadata": {},
   "outputs": [],
   "source": [
    "# Open data with wind\n",
    "train = pd.read_csv('../../data/processed/train_with_wind.csv', sep=',')\n",
    "test = pd.read_csv('../../data/processed/test_with_wind.csv', sep=',')"
   ]
  },
  {
   "cell_type": "code",
   "execution_count": 494,
   "metadata": {},
   "outputs": [
    {
     "data": {
      "text/plain": [
       "datetime      0\n",
       "season        0\n",
       "holiday       0\n",
       "workingday    0\n",
       "weather       0\n",
       "temp          0\n",
       "atemp         0\n",
       "humidity      0\n",
       "windspeed     0\n",
       "casual        0\n",
       "registered    0\n",
       "count         0\n",
       "year          0\n",
       "month         0\n",
       "day           0\n",
       "hour          0\n",
       "dtype: int64"
      ]
     },
     "execution_count": 494,
     "metadata": {},
     "output_type": "execute_result"
    }
   ],
   "source": [
    "train.isnull().sum()"
   ]
  },
  {
   "cell_type": "code",
   "execution_count": 495,
   "metadata": {},
   "outputs": [
    {
     "data": {
      "text/plain": [
       "datetime      0\n",
       "season        0\n",
       "holiday       0\n",
       "workingday    0\n",
       "weather       0\n",
       "temp          0\n",
       "atemp         0\n",
       "humidity      0\n",
       "windspeed     0\n",
       "year          0\n",
       "month         0\n",
       "day           0\n",
       "hour          0\n",
       "dtype: int64"
      ]
     },
     "execution_count": 495,
     "metadata": {},
     "output_type": "execute_result"
    }
   ],
   "source": [
    "test.isnull().sum()"
   ]
  },
  {
   "cell_type": "code",
   "execution_count": 496,
   "metadata": {},
   "outputs": [],
   "source": [
    "# Create dummy variables to recoginse the datasets\n",
    "train['dataset'] = 'train'\n",
    "test['dataset'] = 'test'\n",
    "\n",
    "# Combine train and test based on the datetime column\n",
    "data = pd.concat([train, test], axis=0)\n",
    "data.sort_values('datetime', inplace=True)\n",
    "\n",
    "#reset_index\n",
    "data.reset_index(drop=True, inplace=True)"
   ]
  },
  {
   "cell_type": "code",
   "execution_count": 497,
   "metadata": {},
   "outputs": [
    {
     "data": {
      "text/plain": [
       "datetime         0\n",
       "season           0\n",
       "holiday          0\n",
       "workingday       0\n",
       "weather          0\n",
       "temp             0\n",
       "atemp            0\n",
       "humidity         0\n",
       "windspeed        0\n",
       "casual        6493\n",
       "registered    6493\n",
       "count         6493\n",
       "year             0\n",
       "month            0\n",
       "day              0\n",
       "hour             0\n",
       "dataset          0\n",
       "dtype: int64"
      ]
     },
     "execution_count": 497,
     "metadata": {},
     "output_type": "execute_result"
    }
   ],
   "source": [
    "data.isnull().sum()"
   ]
  },
  {
   "cell_type": "code",
   "execution_count": 498,
   "metadata": {},
   "outputs": [],
   "source": [
    "mask = data['dataset'] == 'train'"
   ]
  },
  {
   "cell_type": "code",
   "execution_count": 499,
   "metadata": {},
   "outputs": [],
   "source": [
    "def smooth_data(data, features, window_sizes):\n",
    "    for i, feature in enumerate(features):\n",
    "        min_periods = int(np.ceil(window_sizes[i]/2))\n",
    "        data[feature] = data[feature].rolling(window=window_sizes[i], min_periods= min_periods, center = True).mean()\n",
    "    return data\n",
    "\n",
    "# Smooth data\n",
    "features = ['temp', 'atemp', 'humidity', 'windspeed']\n",
    "window_sizes = [3, 3, 3, 3, 3, 3, 3, 3, 3]\n",
    "data = smooth_data(data, features, window_sizes)\n",
    "\n",
    "# Smooth train data\n",
    "features = ['count', 'registered', 'casual']\n",
    "window_sizes = [3, 3, 3]"
   ]
  },
  {
   "cell_type": "code",
   "execution_count": 500,
   "metadata": {},
   "outputs": [
    {
     "data": {
      "text/plain": [
       "datetime         0\n",
       "season           0\n",
       "holiday          0\n",
       "workingday       0\n",
       "weather          0\n",
       "temp             0\n",
       "atemp            0\n",
       "humidity         0\n",
       "windspeed        0\n",
       "casual        6493\n",
       "registered    6493\n",
       "count         6493\n",
       "year             0\n",
       "month            0\n",
       "day              0\n",
       "hour             0\n",
       "dataset          0\n",
       "dtype: int64"
      ]
     },
     "execution_count": 500,
     "metadata": {},
     "output_type": "execute_result"
    }
   ],
   "source": [
    "data.isnull().sum()"
   ]
  },
  {
   "cell_type": "code",
   "execution_count": 501,
   "metadata": {},
   "outputs": [
    {
     "name": "stdout",
     "output_type": "stream",
     "text": [
      "ADF Statistic for count: -6.419975656501509\n",
      "count is stationary\n",
      "\n"
     ]
    },
    {
     "data": {
      "image/png": "[encoded data removed]",
      "text/plain": [
       "<Figure size 640x480 with 1 Axes>"
      ]
     },
     "metadata": {},
     "output_type": "display_data"
    },
    {
     "name": "stdout",
     "output_type": "stream",
     "text": [
      "ADF Statistic for registered: -7.475669726156094\n",
      "registered is stationary\n",
      "\n"
     ]
    },
    {
     "data": {
      "image/png": "[encoded data removed]",
      "text/plain": [
       "<Figure size 640x480 with 1 Axes>"
      ]
     },
     "metadata": {},
     "output_type": "display_data"
    },
    {
     "name": "stdout",
     "output_type": "stream",
     "text": [
      "ADF Statistic for casual: -10.383742730117927\n",
      "casual is stationary\n",
      "\n"
     ]
    },
    {
     "data": {
      "image/png": "[encoded data removed]",
      "text/plain": [
       "<Figure size 640x480 with 1 Axes>"
      ]
     },
     "metadata": {},
     "output_type": "display_data"
    }
   ],
   "source": [
    "# check stationarity\n",
    "from statsmodels.tsa.stattools import adfuller\n",
    "\n",
    "def check_stationarity(dataset, columns):\n",
    "    stationary_results = {}\n",
    "    \n",
    "    for col in columns:\n",
    "        result = adfuller(dataset[col])\n",
    "        print(f'ADF Statistic for {col}: {result[0]}')\n",
    "        stationary_results[col] = {'ADF Statistic': result[0],\n",
    "                                   'p-value': result[1],\n",
    "                                   'Critical Values': result[4]}\n",
    "        # Print weather the data is stationary or not\n",
    "        if result[1] < 0.05:\n",
    "            print(f'{col} is stationary\\n')\n",
    "        else:\n",
    "            print(f'{col} is not stationary\\n')\n",
    "\n",
    "        # Plot data with seaborn with index as x\n",
    "        sns.lineplot(data=dataset, x=dataset.index, y=col)\n",
    "        plt.title(col)\n",
    "        plt.show()\n",
    "        \n",
    "    return stationary_results\n",
    "\n",
    "# Check stationarity\n",
    "columns = ['count', 'registered', 'casual']\n",
    "stationarity_results = check_stationarity(data[mask], columns)\n"
   ]
  },
  {
   "cell_type": "code",
   "execution_count": 502,
   "metadata": {},
   "outputs": [
    {
     "data": {
      "text/plain": [
       "datetime         0\n",
       "season           0\n",
       "holiday          0\n",
       "workingday       0\n",
       "weather          0\n",
       "temp             0\n",
       "atemp            0\n",
       "humidity         0\n",
       "windspeed        0\n",
       "casual        6493\n",
       "registered    6493\n",
       "count         6493\n",
       "year             0\n",
       "month            0\n",
       "day              0\n",
       "hour             0\n",
       "dataset          0\n",
       "dtype: int64"
      ]
     },
     "execution_count": 502,
     "metadata": {},
     "output_type": "execute_result"
    }
   ],
   "source": [
    "data.isnull().sum()"
   ]
  },
  {
   "cell_type": "code",
   "execution_count": 503,
   "metadata": {},
   "outputs": [],
   "source": [
    "def remove_outliers(data, features):\n",
    "\n",
    "    # Create a new copied column for each feature\n",
    "    for feature in features:\n",
    "        data[f'{feature}_orig'] = data[feature].copy()\n",
    "\n",
    "        # Calculate the z-score\n",
    "        data[f'{feature}_zscore'] = np.abs((data[feature] - data[feature].mean())/data[feature].std())\n",
    "\n",
    "        # Set to NaN values that are outliers\n",
    "        data.loc[data[f'{feature}_zscore'] > 3, feature] = np.nan\n",
    "        \n",
    "    return data\n",
    "\n",
    "# Remove outliers\n",
    "features = ['count', 'registered', 'casual']\n",
    "train = data[mask].copy()\n",
    "data[mask] = remove_outliers(train, features)"
   ]
  },
  {
   "cell_type": "code",
   "execution_count": 504,
   "metadata": {},
   "outputs": [
    {
     "data": {
      "text/plain": [
       "datetime         0\n",
       "season           0\n",
       "holiday          0\n",
       "workingday       0\n",
       "weather          0\n",
       "temp             0\n",
       "atemp            0\n",
       "humidity         0\n",
       "windspeed        0\n",
       "casual        6785\n",
       "registered    6728\n",
       "count         6640\n",
       "year             0\n",
       "month            0\n",
       "day              0\n",
       "hour             0\n",
       "dataset          0\n",
       "dtype: int64"
      ]
     },
     "execution_count": 504,
     "metadata": {},
     "output_type": "execute_result"
    }
   ],
   "source": [
    "data.isnull().sum()"
   ]
  },
  {
   "cell_type": "code",
   "execution_count": 505,
   "metadata": {},
   "outputs": [],
   "source": [
    "def interpolate_outliers(data, features):\n",
    "    for feature in features:\n",
    "        data[feature] = data[feature].interpolate(method='spline', order=3)\n",
    "    return data\n",
    "\n",
    "# Interpolate outliers\n",
    "train = data[mask].copy()\n",
    "data[mask] = interpolate_outliers(train, features)"
   ]
  },
  {
   "cell_type": "code",
   "execution_count": 506,
   "metadata": {},
   "outputs": [],
   "source": [
    "# convert datetime to datetime\n",
    "data['datetime'] = pd.to_datetime(data['datetime'])"
   ]
  },
  {
   "cell_type": "code",
   "execution_count": 507,
   "metadata": {},
   "outputs": [
    {
     "data": {
      "text/plain": [
       "datetime         0\n",
       "season           0\n",
       "holiday          0\n",
       "workingday       0\n",
       "weather          0\n",
       "temp             0\n",
       "atemp            0\n",
       "humidity         0\n",
       "windspeed        0\n",
       "casual        6493\n",
       "registered    6493\n",
       "count         6493\n",
       "year             0\n",
       "month            0\n",
       "day              0\n",
       "hour             0\n",
       "dataset          0\n",
       "dtype: int64"
      ]
     },
     "execution_count": 507,
     "metadata": {},
     "output_type": "execute_result"
    }
   ],
   "source": [
    "data.isnull().sum()"
   ]
  },
  {
   "cell_type": "code",
   "execution_count": 508,
   "metadata": {},
   "outputs": [],
   "source": [
    "# Add day of the year number from 1 to 365\n",
    "data['dayofyear'] = data['datetime'].dt.dayofyear\n",
    "\n",
    "# Add week of the year number from 1 to 52\n",
    "data['weekofyear'] = data['dayofyear'] // 7\n",
    "# Add day of the week\n",
    "data['dayofweek'] = data['datetime'].dt.dayofweek"
   ]
  },
  {
   "cell_type": "code",
   "execution_count": 509,
   "metadata": {},
   "outputs": [
    {
     "data": {
      "text/plain": [
       "datetime         0\n",
       "season           0\n",
       "holiday          0\n",
       "workingday       0\n",
       "weather          0\n",
       "temp             0\n",
       "atemp            0\n",
       "humidity         0\n",
       "windspeed        0\n",
       "casual        6493\n",
       "registered    6493\n",
       "count         6493\n",
       "year             0\n",
       "month            0\n",
       "day              0\n",
       "hour             0\n",
       "dataset          0\n",
       "dayofyear        0\n",
       "weekofyear       0\n",
       "dayofweek        0\n",
       "dtype: int64"
      ]
     },
     "execution_count": 509,
     "metadata": {},
     "output_type": "execute_result"
    }
   ],
   "source": [
    "data.isnull().sum()"
   ]
  },
  {
   "cell_type": "code",
   "execution_count": 510,
   "metadata": {},
   "outputs": [
    {
     "data": {
      "text/plain": [
       "Index(['datetime', 'season', 'holiday', 'workingday', 'weather', 'temp',\n",
       "       'atemp', 'humidity', 'windspeed', 'casual', 'registered', 'count',\n",
       "       'year', 'month', 'day', 'hour', 'dataset', 'dayofyear', 'weekofyear',\n",
       "       'dayofweek'],\n",
       "      dtype='object')"
      ]
     },
     "execution_count": 510,
     "metadata": {},
     "output_type": "execute_result"
    }
   ],
   "source": [
    "data.columns"
   ]
  },
  {
   "cell_type": "code",
   "execution_count": 511,
   "metadata": {},
   "outputs": [],
   "source": [
    "def create_lagged_features(data, features, lags):\n",
    "    \n",
    "    for feature in features:\n",
    "        for lag in lags:\n",
    "\n",
    "            current = data[feature]\n",
    "            positive_lag = current.shift(lag)\n",
    "            negative_lag = current.shift(-lag)\n",
    "\n",
    "            mask_positive = positive_lag.isnull()\n",
    "            mask_negative = negative_lag.isnull()\n",
    "            mask_double = mask_positive & mask_negative\n",
    "\n",
    "            positive_lag[mask_positive & (~mask_double)] = current[mask_positive] + (current - negative_lag)[mask_positive]\n",
    "            negative_lag[mask_negative & (~mask_double)] = current[mask_negative] + (current - positive_lag)[mask_negative]\n",
    "\n",
    "            data[f'{feature}, +{lag}'] = positive_lag\n",
    "            data[f'{feature}, -{lag}'] = negative_lag\n",
    "    return data\n",
    "\n",
    "# Create lagged features\n",
    "features = ['windspeed', 'atemp', 'humidity', 'holiday', 'workingday', 'weather', 'temp']\n",
    "days_of_lag = [7]\n",
    "lags = [day * 24 for day in days_of_lag]\n",
    "\n",
    "data = create_lagged_features(data, features, lags)\n",
    "\n",
    "features = ['casual', 'registered']\n",
    "days_of_lag = [6, 7, 8]\n",
    "lags = [day * 24 + i for day in days_of_lag for i in (-1, 0, 1)]\n",
    "data = create_lagged_features(data, features, lags)"
   ]
  },
  {
   "cell_type": "code",
   "execution_count": 512,
   "metadata": {},
   "outputs": [
    {
     "data": {
      "text/html": [
       "<div>\n",
       "<style scoped>\n",
       "    .dataframe tbody tr th:only-of-type {\n",
       "        vertical-align: middle;\n",
       "    }\n",
       "\n",
       "    .dataframe tbody tr th {\n",
       "        vertical-align: top;\n",
       "    }\n",
       "\n",
       "    .dataframe thead th {\n",
       "        text-align: right;\n",
       "    }\n",
       "</style>\n",
       "<table border=\"1\" class=\"dataframe\">\n",
       "  <thead>\n",
       "    <tr style=\"text-align: right;\">\n",
       "      <th></th>\n",
       "      <th>datetime</th>\n",
       "      <th>season</th>\n",
       "      <th>holiday</th>\n",
       "      <th>workingday</th>\n",
       "      <th>weather</th>\n",
       "      <th>temp</th>\n",
       "      <th>atemp</th>\n",
       "      <th>humidity</th>\n",
       "      <th>windspeed</th>\n",
       "      <th>casual</th>\n",
       "      <th>...</th>\n",
       "      <th>registered, +168</th>\n",
       "      <th>registered, -168</th>\n",
       "      <th>registered, +169</th>\n",
       "      <th>registered, -169</th>\n",
       "      <th>registered, +191</th>\n",
       "      <th>registered, -191</th>\n",
       "      <th>registered, +192</th>\n",
       "      <th>registered, -192</th>\n",
       "      <th>registered, +193</th>\n",
       "      <th>registered, -193</th>\n",
       "    </tr>\n",
       "  </thead>\n",
       "  <tbody>\n",
       "    <tr>\n",
       "      <th>0</th>\n",
       "      <td>2011-01-01 00:00:00</td>\n",
       "      <td>1</td>\n",
       "      <td>0</td>\n",
       "      <td>0</td>\n",
       "      <td>1</td>\n",
       "      <td>9.430000</td>\n",
       "      <td>14.015000</td>\n",
       "      <td>80.500000</td>\n",
       "      <td>6.496104</td>\n",
       "      <td>3.0</td>\n",
       "      <td>...</td>\n",
       "      <td>18.0</td>\n",
       "      <td>8.0</td>\n",
       "      <td>11.0</td>\n",
       "      <td>15.0</td>\n",
       "      <td>25.0</td>\n",
       "      <td>1.0</td>\n",
       "      <td>21.0</td>\n",
       "      <td>5.0</td>\n",
       "      <td>16.0</td>\n",
       "      <td>10.0</td>\n",
       "    </tr>\n",
       "    <tr>\n",
       "      <th>1</th>\n",
       "      <td>2011-01-01 01:00:00</td>\n",
       "      <td>1</td>\n",
       "      <td>0</td>\n",
       "      <td>0</td>\n",
       "      <td>1</td>\n",
       "      <td>9.293333</td>\n",
       "      <td>13.888333</td>\n",
       "      <td>80.333333</td>\n",
       "      <td>6.492727</td>\n",
       "      <td>8.0</td>\n",
       "      <td>...</td>\n",
       "      <td>49.0</td>\n",
       "      <td>15.0</td>\n",
       "      <td>44.0</td>\n",
       "      <td>20.0</td>\n",
       "      <td>59.0</td>\n",
       "      <td>5.0</td>\n",
       "      <td>54.0</td>\n",
       "      <td>10.0</td>\n",
       "      <td>45.0</td>\n",
       "      <td>19.0</td>\n",
       "    </tr>\n",
       "    <tr>\n",
       "      <th>2</th>\n",
       "      <td>2011-01-01 02:00:00</td>\n",
       "      <td>1</td>\n",
       "      <td>0</td>\n",
       "      <td>0</td>\n",
       "      <td>1</td>\n",
       "      <td>9.293333</td>\n",
       "      <td>13.888333</td>\n",
       "      <td>78.333333</td>\n",
       "      <td>6.153690</td>\n",
       "      <td>5.0</td>\n",
       "      <td>...</td>\n",
       "      <td>34.0</td>\n",
       "      <td>20.0</td>\n",
       "      <td>-2.0</td>\n",
       "      <td>56.0</td>\n",
       "      <td>44.0</td>\n",
       "      <td>10.0</td>\n",
       "      <td>35.0</td>\n",
       "      <td>19.0</td>\n",
       "      <td>5.0</td>\n",
       "      <td>49.0</td>\n",
       "    </tr>\n",
       "    <tr>\n",
       "      <th>3</th>\n",
       "      <td>2011-01-01 03:00:00</td>\n",
       "      <td>1</td>\n",
       "      <td>0</td>\n",
       "      <td>0</td>\n",
       "      <td>1</td>\n",
       "      <td>9.566667</td>\n",
       "      <td>14.141667</td>\n",
       "      <td>76.666667</td>\n",
       "      <td>7.400227</td>\n",
       "      <td>3.0</td>\n",
       "      <td>...</td>\n",
       "      <td>-36.0</td>\n",
       "      <td>56.0</td>\n",
       "      <td>-40.0</td>\n",
       "      <td>60.0</td>\n",
       "      <td>1.0</td>\n",
       "      <td>19.0</td>\n",
       "      <td>-29.0</td>\n",
       "      <td>49.0</td>\n",
       "      <td>-27.0</td>\n",
       "      <td>47.0</td>\n",
       "    </tr>\n",
       "    <tr>\n",
       "      <th>4</th>\n",
       "      <td>2011-01-01 04:00:00</td>\n",
       "      <td>1</td>\n",
       "      <td>0</td>\n",
       "      <td>0</td>\n",
       "      <td>1</td>\n",
       "      <td>9.840000</td>\n",
       "      <td>13.890000</td>\n",
       "      <td>75.000000</td>\n",
       "      <td>7.239303</td>\n",
       "      <td>0.0</td>\n",
       "      <td>...</td>\n",
       "      <td>-58.0</td>\n",
       "      <td>60.0</td>\n",
       "      <td>-88.0</td>\n",
       "      <td>90.0</td>\n",
       "      <td>-47.0</td>\n",
       "      <td>49.0</td>\n",
       "      <td>-45.0</td>\n",
       "      <td>47.0</td>\n",
       "      <td>-77.0</td>\n",
       "      <td>79.0</td>\n",
       "    </tr>\n",
       "    <tr>\n",
       "      <th>...</th>\n",
       "      <td>...</td>\n",
       "      <td>...</td>\n",
       "      <td>...</td>\n",
       "      <td>...</td>\n",
       "      <td>...</td>\n",
       "      <td>...</td>\n",
       "      <td>...</td>\n",
       "      <td>...</td>\n",
       "      <td>...</td>\n",
       "      <td>...</td>\n",
       "      <td>...</td>\n",
       "      <td>...</td>\n",
       "      <td>...</td>\n",
       "      <td>...</td>\n",
       "      <td>...</td>\n",
       "      <td>...</td>\n",
       "      <td>...</td>\n",
       "      <td>...</td>\n",
       "      <td>...</td>\n",
       "      <td>...</td>\n",
       "      <td>...</td>\n",
       "    </tr>\n",
       "    <tr>\n",
       "      <th>17374</th>\n",
       "      <td>2012-12-31 19:00:00</td>\n",
       "      <td>1</td>\n",
       "      <td>0</td>\n",
       "      <td>1</td>\n",
       "      <td>2</td>\n",
       "      <td>10.660000</td>\n",
       "      <td>13.131667</td>\n",
       "      <td>56.000000</td>\n",
       "      <td>10.333633</td>\n",
       "      <td>NaN</td>\n",
       "      <td>...</td>\n",
       "      <td>NaN</td>\n",
       "      <td>NaN</td>\n",
       "      <td>NaN</td>\n",
       "      <td>NaN</td>\n",
       "      <td>NaN</td>\n",
       "      <td>NaN</td>\n",
       "      <td>NaN</td>\n",
       "      <td>NaN</td>\n",
       "      <td>NaN</td>\n",
       "      <td>NaN</td>\n",
       "    </tr>\n",
       "    <tr>\n",
       "      <th>17375</th>\n",
       "      <td>2012-12-31 20:00:00</td>\n",
       "      <td>1</td>\n",
       "      <td>0</td>\n",
       "      <td>1</td>\n",
       "      <td>2</td>\n",
       "      <td>10.660000</td>\n",
       "      <td>12.880000</td>\n",
       "      <td>60.000000</td>\n",
       "      <td>11.001400</td>\n",
       "      <td>NaN</td>\n",
       "      <td>...</td>\n",
       "      <td>NaN</td>\n",
       "      <td>NaN</td>\n",
       "      <td>NaN</td>\n",
       "      <td>NaN</td>\n",
       "      <td>NaN</td>\n",
       "      <td>NaN</td>\n",
       "      <td>NaN</td>\n",
       "      <td>NaN</td>\n",
       "      <td>NaN</td>\n",
       "      <td>NaN</td>\n",
       "    </tr>\n",
       "    <tr>\n",
       "      <th>17376</th>\n",
       "      <td>2012-12-31 21:00:00</td>\n",
       "      <td>1</td>\n",
       "      <td>0</td>\n",
       "      <td>1</td>\n",
       "      <td>1</td>\n",
       "      <td>10.660000</td>\n",
       "      <td>13.131667</td>\n",
       "      <td>58.666667</td>\n",
       "      <td>10.333633</td>\n",
       "      <td>NaN</td>\n",
       "      <td>...</td>\n",
       "      <td>NaN</td>\n",
       "      <td>NaN</td>\n",
       "      <td>NaN</td>\n",
       "      <td>NaN</td>\n",
       "      <td>NaN</td>\n",
       "      <td>NaN</td>\n",
       "      <td>NaN</td>\n",
       "      <td>NaN</td>\n",
       "      <td>NaN</td>\n",
       "      <td>NaN</td>\n",
       "    </tr>\n",
       "    <tr>\n",
       "      <th>17377</th>\n",
       "      <td>2012-12-31 22:00:00</td>\n",
       "      <td>1</td>\n",
       "      <td>0</td>\n",
       "      <td>1</td>\n",
       "      <td>1</td>\n",
       "      <td>10.660000</td>\n",
       "      <td>13.383333</td>\n",
       "      <td>60.333333</td>\n",
       "      <td>9.665867</td>\n",
       "      <td>NaN</td>\n",
       "      <td>...</td>\n",
       "      <td>NaN</td>\n",
       "      <td>NaN</td>\n",
       "      <td>NaN</td>\n",
       "      <td>NaN</td>\n",
       "      <td>NaN</td>\n",
       "      <td>NaN</td>\n",
       "      <td>NaN</td>\n",
       "      <td>NaN</td>\n",
       "      <td>NaN</td>\n",
       "      <td>NaN</td>\n",
       "    </tr>\n",
       "    <tr>\n",
       "      <th>17378</th>\n",
       "      <td>2012-12-31 23:00:00</td>\n",
       "      <td>1</td>\n",
       "      <td>0</td>\n",
       "      <td>1</td>\n",
       "      <td>1</td>\n",
       "      <td>10.660000</td>\n",
       "      <td>13.635000</td>\n",
       "      <td>60.500000</td>\n",
       "      <td>8.998100</td>\n",
       "      <td>NaN</td>\n",
       "      <td>...</td>\n",
       "      <td>NaN</td>\n",
       "      <td>NaN</td>\n",
       "      <td>NaN</td>\n",
       "      <td>NaN</td>\n",
       "      <td>NaN</td>\n",
       "      <td>NaN</td>\n",
       "      <td>NaN</td>\n",
       "      <td>NaN</td>\n",
       "      <td>NaN</td>\n",
       "      <td>NaN</td>\n",
       "    </tr>\n",
       "  </tbody>\n",
       "</table>\n",
       "<p>17379 rows × 70 columns</p>\n",
       "</div>"
      ],
      "text/plain": [
       "                 datetime  season  holiday  workingday  weather       temp  \\\n",
       "0     2011-01-01 00:00:00       1        0           0        1   9.430000   \n",
       "1     2011-01-01 01:00:00       1        0           0        1   9.293333   \n",
       "2     2011-01-01 02:00:00       1        0           0        1   9.293333   \n",
       "3     2011-01-01 03:00:00       1        0           0        1   9.566667   \n",
       "4     2011-01-01 04:00:00       1        0           0        1   9.840000   \n",
       "...                   ...     ...      ...         ...      ...        ...   \n",
       "17374 2012-12-31 19:00:00       1        0           1        2  10.660000   \n",
       "17375 2012-12-31 20:00:00       1        0           1        2  10.660000   \n",
       "17376 2012-12-31 21:00:00       1        0           1        1  10.660000   \n",
       "17377 2012-12-31 22:00:00       1        0           1        1  10.660000   \n",
       "17378 2012-12-31 23:00:00       1        0           1        1  10.660000   \n",
       "\n",
       "           atemp   humidity  windspeed  casual  ...  registered, +168  \\\n",
       "0      14.015000  80.500000   6.496104     3.0  ...              18.0   \n",
       "1      13.888333  80.333333   6.492727     8.0  ...              49.0   \n",
       "2      13.888333  78.333333   6.153690     5.0  ...              34.0   \n",
       "3      14.141667  76.666667   7.400227     3.0  ...             -36.0   \n",
       "4      13.890000  75.000000   7.239303     0.0  ...             -58.0   \n",
       "...          ...        ...        ...     ...  ...               ...   \n",
       "17374  13.131667  56.000000  10.333633     NaN  ...               NaN   \n",
       "17375  12.880000  60.000000  11.001400     NaN  ...               NaN   \n",
       "17376  13.131667  58.666667  10.333633     NaN  ...               NaN   \n",
       "17377  13.383333  60.333333   9.665867     NaN  ...               NaN   \n",
       "17378  13.635000  60.500000   8.998100     NaN  ...               NaN   \n",
       "\n",
       "       registered, -168  registered, +169  registered, -169  registered, +191  \\\n",
       "0                   8.0              11.0              15.0              25.0   \n",
       "1                  15.0              44.0              20.0              59.0   \n",
       "2                  20.0              -2.0              56.0              44.0   \n",
       "3                  56.0             -40.0              60.0               1.0   \n",
       "4                  60.0             -88.0              90.0             -47.0   \n",
       "...                 ...               ...               ...               ...   \n",
       "17374               NaN               NaN               NaN               NaN   \n",
       "17375               NaN               NaN               NaN               NaN   \n",
       "17376               NaN               NaN               NaN               NaN   \n",
       "17377               NaN               NaN               NaN               NaN   \n",
       "17378               NaN               NaN               NaN               NaN   \n",
       "\n",
       "       registered, -191 registered, +192  registered, -192  registered, +193  \\\n",
       "0                   1.0             21.0               5.0              16.0   \n",
       "1                   5.0             54.0              10.0              45.0   \n",
       "2                  10.0             35.0              19.0               5.0   \n",
       "3                  19.0            -29.0              49.0             -27.0   \n",
       "4                  49.0            -45.0              47.0             -77.0   \n",
       "...                 ...              ...               ...               ...   \n",
       "17374               NaN              NaN               NaN               NaN   \n",
       "17375               NaN              NaN               NaN               NaN   \n",
       "17376               NaN              NaN               NaN               NaN   \n",
       "17377               NaN              NaN               NaN               NaN   \n",
       "17378               NaN              NaN               NaN               NaN   \n",
       "\n",
       "       registered, -193  \n",
       "0                  10.0  \n",
       "1                  19.0  \n",
       "2                  49.0  \n",
       "3                  47.0  \n",
       "4                  79.0  \n",
       "...                 ...  \n",
       "17374               NaN  \n",
       "17375               NaN  \n",
       "17376               NaN  \n",
       "17377               NaN  \n",
       "17378               NaN  \n",
       "\n",
       "[17379 rows x 70 columns]"
      ]
     },
     "execution_count": 512,
     "metadata": {},
     "output_type": "execute_result"
    }
   ],
   "source": [
    "data"
   ]
  },
  {
   "cell_type": "code",
   "execution_count": 515,
   "metadata": {},
   "outputs": [],
   "source": [
    "# make list of columns that are never nan from data.columns\n",
    "columns = data.columns\n",
    "columns = columns[~data.isnull().any()]\n",
    "\n",
    "columns_to_fill = data.columns[~data.columns.isin(columns)]"
   ]
  },
  {
   "cell_type": "code",
   "execution_count": 516,
   "metadata": {},
   "outputs": [
    {
     "name": "stdout",
     "output_type": "stream",
     "text": [
      "Columns that are never NaN: Index(['datetime', 'season', 'holiday', 'workingday', 'weather', 'temp',\n",
      "       'atemp', 'humidity', 'windspeed', 'year', 'month', 'day', 'hour',\n",
      "       'dataset', 'dayofyear', 'weekofyear', 'dayofweek', 'windspeed, +168',\n",
      "       'windspeed, -168', 'atemp, +168', 'atemp, -168', 'humidity, +168',\n",
      "       'humidity, -168', 'holiday, +168', 'holiday, -168', 'workingday, +168',\n",
      "       'workingday, -168', 'weather, +168', 'weather, -168', 'temp, +168',\n",
      "       'temp, -168'],\n",
      "      dtype='object')\n",
      "Columns that have NaN: Index(['casual', 'registered', 'count', 'casual, +143', 'casual, -143',\n",
      "       'casual, +144', 'casual, -144', 'casual, +145', 'casual, -145',\n",
      "       'casual, +167', 'casual, -167', 'casual, +168', 'casual, -168',\n",
      "       'casual, +169', 'casual, -169', 'casual, +191', 'casual, -191',\n",
      "       'casual, +192', 'casual, -192', 'casual, +193', 'casual, -193',\n",
      "       'registered, +143', 'registered, -143', 'registered, +144',\n",
      "       'registered, -144', 'registered, +145', 'registered, -145',\n",
      "       'registered, +167', 'registered, -167', 'registered, +168',\n",
      "       'registered, -168', 'registered, +169', 'registered, -169',\n",
      "       'registered, +191', 'registered, -191', 'registered, +192',\n",
      "       'registered, -192', 'registered, +193', 'registered, -193'],\n",
      "      dtype='object')\n"
     ]
    }
   ],
   "source": [
    "print(f'Columns that are never NaN: {columns}')\n",
    "print(f'Columns that have NaN: {columns_to_fill}')"
   ]
  },
  {
   "cell_type": "code",
   "execution_count": null,
   "metadata": {},
   "outputs": [],
   "source": [
    "# Create piplines to fill missing values with mlp regressor\n",
    "from sklearn.pipeline import Pipeline\n",
    "from sklearn.preprocessing import StandardScaler\n",
    "from sklearn.neural_network import MLPRegressor\n",
    "from sklearn.model_selection import train_test_split\n",
    "\n",
    "# Create a pipeline to fill missing values\n",
    "\n",
    "def create_pipeline(data, feature):\n",
    "    # Create a mask to identify the missing values\n",
    "    mask = data[feature].isnull()\n",
    "    \n",
    "    # Create a pipeline\n",
    "    pipeline = Pipeline([\n",
    "        ('scaler', StandardScaler()),\n",
    "        ('mlp', MLPRegressor(hidden_layer_sizes=(100, 100), max_iter=1000))\n",
    "    ])\n",
    "    \n",
    "    # Split the data into train and test\n",
    "    X_train, X_test, y_train, y_test = train_test_split(data[~mask].drop(columns=columns_to_fill, axis=1), data[~mask][feature], test_size=0.2)\n",
    "    \n",
    "    # Fit the pipeline\n",
    "    pipeline.fit(X_train, y_train)\n",
    "    \n",
    "    # Predict the missing values\n",
    "    data.loc[mask, feature] = pipeline.predict(data[mask].drop(columns=columns_to_fill, axis=1))\n",
    "    \n",
    "    return data"
   ]
  },
  {
   "cell_type": "code",
   "execution_count": null,
   "metadata": {},
   "outputs": [],
   "source": []
  },
  {
   "cell_type": "code",
   "execution_count": 514,
   "metadata": {},
   "outputs": [],
   "source": [
    "# save data\n",
    "data.to_csv('../../data/processed/final_data.csv', index=False)"
   ]
  }
 ],
 "metadata": {
  "kernelspec": {
   "display_name": ".venv",
   "language": "python",
   "name": "python3"
  },
  "language_info": {
   "codemirror_mode": {
    "name": "ipython",
    "version": 3
   },
   "file_extension": ".py",
   "mimetype": "text/x-python",
   "name": "python",
   "nbconvert_exporter": "python",
   "pygments_lexer": "ipython3",
   "version": "3.12.2"
  }
 },
 "nbformat": 4,
 "nbformat_minor": 2
}
